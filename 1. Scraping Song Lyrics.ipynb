{
 "cells": [
  {
   "cell_type": "markdown",
   "metadata": {},
   "source": [
    "# Scraping Song Lyrics"
   ]
  },
  {
   "cell_type": "markdown",
   "metadata": {
    "deletable": false,
    "nbgrader": {
     "checksum": "8df71135a614086706cabada8726e93c",
     "grade": false,
     "grade_id": "scraping_question",
     "locked": true,
     "solution": false
    }
   },
   "source": [
    "Find a website that has lyrics for all the songs by your favorite artist. Then scrape the lyrics into a Python list called `lyrics`, where each element of the list represents the lyrics of one song.\n",
    "\n",
    "Tips:\n",
    "- Find a webpage that has links to all the songs, like [this one](http://www.azlyrics.com/n/nirvana.html). [NOTE: It seems like azlyrics.com does not allow you to scrape their webpages, so you'll have to find another source.] Then, you can write code to visit all the links and scrape each page one by one.\n",
    "- Make sure you use time.sleep(0.1) to stagger your requests so that you do not get banned by the website for making too many requests."
   ]
  },
  {
   "cell_type": "code",
   "execution_count": 2,
   "metadata": {
    "collapsed": true
   },
   "outputs": [],
   "source": [
    "import requests\n",
    "import time\n",
    "from bs4 import BeautifulSoup"
   ]
  },
  {
   "cell_type": "code",
   "execution_count": 7,
   "metadata": {
    "collapsed": false
   },
   "outputs": [],
   "source": [
    "song_links = []\n",
    "\n",
    "\n",
    "    \n",
    "req = requests.get('http://www.metrolyrics.com/kanye-west-lyrics.html')\n",
    "time.sleep(0.1)\n",
    "soup = BeautifulSoup(req.text, 'html.parser')\n",
    "for td in soup.find_all(\"td\"):\n",
    "    url = td.find('a')\n",
    "    if url != None:\n",
    "        song_links.append(url[\"href\"])"
   ]
  },
  {
   "cell_type": "code",
   "execution_count": 8,
   "metadata": {
    "collapsed": false
   },
   "outputs": [],
   "source": [
    "lyrics = []\n",
    "\n",
    "for song_link in song_links:\n",
    "    song_lyrics = []\n",
    "    req = requests.get(song_link)\n",
    "    time.sleep(0.1) \n",
    "    \n",
    "    soup = BeautifulSoup(req.text, 'html.parser')\n",
    "    \n",
    "    for p in soup.find_all('p', {\"class\": \"verse\"}):\n",
    "        #The following is necessary because some of the\n",
    "        #verses are preceded by labels such as [Verse 1: Jay Z]\n",
    "        if(len(p.text) < 1):\n",
    "            break\n",
    "        if p.text[0] == '[':\n",
    "            bracket_end = (p.text.find(']'))\n",
    "            song_lyrics.append(p.text[bracket_end+2 :])\n",
    "        else:\n",
    "            song_lyrics.append(p.text)\n",
    "            \n",
    "    if(len(song_lyrics) < 1):\n",
    "        continue\n",
    "    song_lyrics = \" \".join(song_lyrics)\n",
    "    song_lyrics = song_lyrics.replace('\\n', ' <N> ')\n",
    "    lyrics.append(song_lyrics)\n",
    "\n"
   ]
  },
  {
   "cell_type": "code",
   "execution_count": 9,
   "metadata": {
    "collapsed": false,
    "deletable": false,
    "nbgrader": {
     "checksum": "fc30426e397a9a8fd5e5386ba96c683d",
     "grade": false,
     "grade_id": "scraping_run",
     "locked": true,
     "solution": false
    }
   },
   "outputs": [
    {
     "name": "stdout",
     "output_type": "stream",
     "text": [
      "\"N-now th-that that don't kill me <N> Can only make me stronger <N> I need you to hurry up now <N> 'Cause I can't wait much longer <N> I know I got to be right now <N> 'Cause I can't get much wronger <N> Man I've been waiting all night now <N> That's how long I been on ya <N> I need you right now Let's get lost tonight <N> You could be my black Kate Moss tonight <N> Play secretary, I'm the boss tonight <N> And you don't give a fuck what they all say, right? <N> Awesome, the Christian in Christian Dior <N> Damn, they don't make em like this anymore <N> I ask, cause I'm not sure: <N> Do anybody make real shit anymore? <N> Bow in the presence of greatness <N> 'Cause right now thou hast forsaken us <N> You should be honored by my lateness <N> That I would even show up to this fake shit <N> So go ahead, go nuts, go apeshit <N> Specially on my Pastel, on my Bape shit <N> Act like you can't tell who made this <N> New Gospel homey, take six and take this, haters N-now th-that that don't kill me <N> Can only make me stronger <N> I need you to hurry up now <N> 'Cause I can't wait much longer <N> I know I got to be right now <N> 'Cause I can't get much wronger <N> Man I've been waiting all night now <N> That's how long I been on ya <N> I need you right now I don't know if you got a man or not <N> If you made plans or not <N> God put me in the plans or not <N> I'm tripping, this drink got me saying a lot <N> But I know that God put you in front of me <N> So how the hell could you front on me? <N> There's a thousand yous, there's only one of me <N> I'm tripping, I'm caught up in the moment, right? <N> 'Cause it's Louis Vuitton Don night <N> So we gonna do everything that Kan like <N> Heard they'd do anything for a Klondike <N> Well, I'd do anything for a blonde dyke <N> And she'll do anything for the limelight <N> And will do anything when the time's right <N> Uh, baby you're makin' it (harder, better, faster, stronger) N-now th-that that don't kill me <N> Can only make me stronger <N> I need you to hurry up now <N> 'Cause I can't wait much longer <N> I know I got to be right now <N> 'Cause I can't get much wronger <N> Man I've been waiting all night now <N> That's how long I been on ya <N> I need you right now You know how long I've been on ya? <N> Since Prince was on Apollonia <N> Since O.J. had isotoners <N> Don't act like I never told ya N-now th-that that don't kill me <N> Can only make me stronger <N> I need you to hurry up now <N> 'Cause I can't wait much longer <N> I know I got to be right now <N> 'Cause I can't get much wronger <N> Man I've been waiting all night now <N> That's how long I been on ya <N> I need you right now You know how long I've been on ya? <N> Since Prince was on Apollonia <N> Since O.J. had isotoners <N> Don't act like I never told ya You know how long I've been on ya? <N> Since Prince was on Apollonia <N> Since O.J. had isotoners <N> Don't act like I never told ya\"\n"
     ]
    }
   ],
   "source": [
    "# Print out the lyrics to the first song.\n",
    "print(repr(lyrics[0]))"
   ]
  },
  {
   "cell_type": "markdown",
   "metadata": {},
   "source": [
    "`pickle` is a Python package that serializes Python objects to disk so that you can load them in later."
   ]
  },
  {
   "cell_type": "code",
   "execution_count": 10,
   "metadata": {
    "collapsed": true
   },
   "outputs": [],
   "source": [
    "import pickle\n",
    "pickle.dump(lyrics, open(\"lyrics.pkl\", \"wb\"))"
   ]
  },
  {
   "cell_type": "markdown",
   "metadata": {},
   "source": [
    "### Grader's Comments\n",
    "\n",
    "- \n",
    "- \n",
    "\n",
    "[This question is worth 30 points.]"
   ]
  },
  {
   "cell_type": "code",
   "execution_count": 6,
   "metadata": {
    "collapsed": true
   },
   "outputs": [],
   "source": [
    "# This cell should only be modified only by a grader.\n",
    "scores = [None]"
   ]
  }
 ],
 "metadata": {
  "kernelspec": {
   "display_name": "Python 3",
   "language": "python",
   "name": "python3"
  },
  "language_info": {
   "codemirror_mode": {
    "name": "ipython",
    "version": 3
   },
   "file_extension": ".py",
   "mimetype": "text/x-python",
   "name": "python",
   "nbconvert_exporter": "python",
   "pygments_lexer": "ipython3",
   "version": "3.5.2"
  }
 },
 "nbformat": 4,
 "nbformat_minor": 0
}
