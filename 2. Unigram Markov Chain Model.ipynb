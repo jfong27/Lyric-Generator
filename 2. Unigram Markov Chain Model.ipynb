{
 "cells": [
  {
   "cell_type": "markdown",
   "metadata": {},
   "source": [
    "# Unigram Markov Chain Model\n",
    "\n",
    "You will build a Markov chain for the artist whose lyrics you scraped in Part 1. To do this, you have to go through the lyrics and learn the word transitions for that artist. You will store this information in a dict called `chain`, which maps each word to a list of words that appear after it in the training data. So for example, one entry of this dict might be\n",
    "\n",
    "```\n",
    "chain = {\n",
    "    \"it\": [\"is\", \"runs\", \"is\", \"is\", \"was\", \"is\", \"was\"],\n",
    "    ...\n",
    "}\n",
    "```\n",
    "\n",
    "You should include a few additional states, besides words, in your Markov chain. You should have `\"<START>\"` and `\"<END>\"` states so that we can keep track of what words songs are likely to begin and end on. You should also include a state called `\"<N>\"` to denote line breaks so that you can keep track of where lines begin and end. \n",
    "\n",
    "So if the song starts with the line \"Is this the real life?\" and ends with the line \"Nothing really matters to me.\", you would have a dictionary that looks like\n",
    "```\n",
    "chain = {\n",
    "    \"<START>\": [\"Is\", ...],\n",
    "    \"Is\": [\"this\", ...],\n",
    "    \"this\": [\"the\", ...],\n",
    "    \"the\": [\"real\", ...],\n",
    "    \"real\": [\"life?\", ...],\n",
    "    \"life?\": [\"<N>\", ...],\n",
    "    \"<N>\": [\"Nothing\", ...],\n",
    "    \"Nothing\": [\"really\", ...],\n",
    "    \"really\": [\"matters\", ...],\n",
    "    \"matters\": [\"to\", ...],\n",
    "    \"to\": [\"me\", ...],\n",
    "    \"me.\": [\"<END>\", ...],\n",
    "    ...\n",
    "}\n",
    "```\n"
   ]
  },
  {
   "cell_type": "code",
   "execution_count": 27,
   "metadata": {
    "collapsed": false
   },
   "outputs": [],
   "source": [
    "def train_markov_chain(lyrics):\n",
    "    \"\"\"\n",
    "    Args:\n",
    "      - lyrics: a list of strings, where each string represents\n",
    "                the lyrics of one song by an artist.\n",
    "    \n",
    "    Returns:\n",
    "      A dict that maps a single word (\"unigram\") to a list of\n",
    "      words that follow that word, representing the Markov\n",
    "      chain trained on the lyrics.\n",
    "    \"\"\"\n",
    "    chain = {\"<START>\": [],\n",
    "             \"<N>\": []}\n",
    "\n",
    "    for lyric in lyrics:\n",
    "        words = lyric.split()\n",
    "        chain[\"<START>\"].append(words[0])\n",
    "        for i in range(0, len(words)-1):\n",
    "            word = words[i]\n",
    "            if word in chain:\n",
    "                chain[word].append(words[i+1])\n",
    "            else:\n",
    "                chain[word] = [words[i+1]]\n",
    "        last_word = words[-1]\n",
    "        if last_word in chain:\n",
    "            chain[last_word].append(\"<END>\")\n",
    "        else:\n",
    "            chain[last_word] = [\"<END>\"]\n",
    "    \n",
    "    return chain\n",
    "            "
   ]
  },
  {
   "cell_type": "code",
   "execution_count": 28,
   "metadata": {
    "collapsed": false
   },
   "outputs": [
    {
     "name": "stdout",
     "output_type": "stream",
     "text": [
      "['A', 'Uh,', 'A', 'I', \"I've\", 'I', \"That's\", 'Round', 'Too', 'Set', 'My', 'And', 'Double', 'Hand', 'My', 'Pool', 'A', 'Taxi', 'Yeah,', 'Bad']\n",
      "['Excuse', 'In', 'My', 'when', '(Ooh,', \"I've\", '(You', \"I've\", 'Do', 'Do', \"'Cause\", \"'Cause\", 'Enough', 'Got', 'Since', \"That's\", 'Got', \"Thinkin'\", '(Ooh,', \"I've\"]\n"
     ]
    }
   ],
   "source": [
    "# Load the pickled lyrics object that you created in Part 1.\n",
    "import pickle\n",
    "lyrics = pickle.load(open(\"lyrics.pkl\", \"rb\"))\n",
    "\n",
    "# Call the function you wrote above.\n",
    "chain = train_markov_chain(lyrics)\n",
    "# What words tend to start a song (i.e., what words follow the <START> tag?)\n",
    "print(chain[\"<START>\"][:20])\n",
    "\n",
    "# What words tend to begin a line (i.e., what words follow the line break tag?)\n",
    "print(chain[\"<N>\"][:20])"
   ]
  },
  {
   "cell_type": "markdown",
   "metadata": {},
   "source": [
    "Now, let's generate new lyrics using the Markov chain you constructed above. To do this, we'll begin at the `\"<START>\"` state and randomly sample a word from the list of first words. Then, we'll randomly sample each next word from the list of words that appeared after the current word in the training data. We will continue this until we reach the `\"<END>\"` state. This will give us the complete lyrics of a randomly generated song!\n",
    "\n",
    "You may find the `random.choice()` function helpful for this question."
   ]
  },
  {
   "cell_type": "code",
   "execution_count": 31,
   "metadata": {
    "collapsed": true
   },
   "outputs": [],
   "source": [
    "import random\n",
    "\n",
    "def generate_new_lyrics(chain):\n",
    "    \"\"\"\n",
    "    Args:\n",
    "      - chain: a dict representing the Markov chain,\n",
    "               such as one generated by generate_new_lyrics()\n",
    "    \n",
    "    Returns:\n",
    "      A string representing the randomly generated song.\n",
    "    \"\"\"\n",
    "    \n",
    "    # a list for storing the generated words\n",
    "    words = []\n",
    "    # generate the first word\n",
    "    curr_word = random.choice(chain[\"<START>\"])\n",
    "    words.append(curr_word)\n",
    "    while(curr_word != \"<END>\"):\n",
    "        next_word = random.choice(chain[curr_word])\n",
    "        words.append(next_word)\n",
    "        curr_word = next_word\n",
    "    \n",
    "    # YOUR CODE HERE\n",
    "    \n",
    "    \n",
    "    # join the words together into a string with line breaks\n",
    "    lyrics = \" \".join(words[:-1])\n",
    "    return \"\\n\".join(lyrics.split(\"<N>\"))"
   ]
  },
  {
   "cell_type": "code",
   "execution_count": 41,
   "metadata": {
    "collapsed": false
   },
   "outputs": [
    {
     "name": "stdout",
     "output_type": "stream",
     "text": [
      "Taxi driver \n",
      " I'ma make myself \n",
      " All this gets better off solo I'm my sofa yeah Coke on a swan neck \n",
      " And if we can't hold true \n",
      " you slide on a position of 'em \n",
      " Safe in the world \n",
      " Just roll if you were my bayybee \n",
      " Remote controller on my arm \n",
      " Solo, solo \n",
      " The scales was a stain on Earth that you over city building mansions \n",
      " Ooh nani nani \n",
      " Stayed up \n",
      " I couldn't see it. Around. \n",
      " I need a king? \n",
      " Get some for me \n",
      " Every day up \n",
      " It won't let my night \n",
      " Shooters killing left your baby Jesus, we live in the lake \n",
      " The beast will always be Flying, super strength Alright, what's your fridge open, somebody just a beach \n",
      " Inhale, in something, something, something I don't want your self control the Bonnie . I'ma try on \n",
      " The other man allowed for you look out and paranoid, so buff and you still blinded of it turns from a quaalude \n",
      " I'm watchin' my Sonos \n",
      " Until the morning light year? \n",
      " I'm still got a zebra \n",
      " What's a pose \n",
      " Now I do? What's that clinic aid, we're doing well endowed took advantage \n",
      " (Ball so just thought the world \n",
      " You and the home \n",
      " I feel their smiles on my mind boy \n",
      " all your choice \n",
      " When's the dirt clouds \n",
      " Forgot to sing songs about it would like people \n",
      " Oh hallelujah, \n",
      " Bitch I felt a dj plays our good and feel it \n",
      " But shes been trill \n",
      " Are you \n",
      " I miss you, desire \n",
      " This is for you not think about me 'Cause I didn't need \n",
      " Police think about it \n",
      " (Oh you (you showed) \n",
      " Blue used to be all the mind) \n",
      " I should hear, that \n",
      " Won't let me at the dj plays our history \n",
      " Kumbaya shit every day \n",
      " You know you \n",
      " On me, in a god to the city that nigga with me? \n",
      " It's all try\n"
     ]
    }
   ],
   "source": [
    "print(generate_new_lyrics(chain))"
   ]
  },
  {
   "cell_type": "markdown",
   "metadata": {},
   "source": [
    "### Grader's Comments\n",
    "\n",
    "- \n",
    "- \n",
    "\n",
    "[This question is worth 20 points.]"
   ]
  },
  {
   "cell_type": "code",
   "execution_count": null,
   "metadata": {
    "collapsed": true
   },
   "outputs": [],
   "source": [
    "# This cell should only be modified only by a grader.\n",
    "scores = [None]"
   ]
  }
 ],
 "metadata": {
  "kernelspec": {
   "display_name": "Python 3",
   "language": "python",
   "name": "python3"
  },
  "language_info": {
   "codemirror_mode": {
    "name": "ipython",
    "version": 3
   },
   "file_extension": ".py",
   "mimetype": "text/x-python",
   "name": "python",
   "nbconvert_exporter": "python",
   "pygments_lexer": "ipython3",
   "version": "3.5.2"
  }
 },
 "nbformat": 4,
 "nbformat_minor": 2
}
