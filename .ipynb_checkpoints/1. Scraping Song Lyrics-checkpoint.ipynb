{
 "cells": [
  {
   "cell_type": "markdown",
   "metadata": {},
   "source": [
    "# Scraping Song Lyrics"
   ]
  },
  {
   "cell_type": "markdown",
   "metadata": {
    "deletable": false,
    "nbgrader": {
     "checksum": "8df71135a614086706cabada8726e93c",
     "grade": false,
     "grade_id": "scraping_question",
     "locked": true,
     "solution": false
    }
   },
   "source": [
    "Find a website that has lyrics for all the songs by your favorite artist. Then scrape the lyrics into a Python list called `lyrics`, where each element of the list represents the lyrics of one song.\n",
    "\n",
    "Tips:\n",
    "- Find a webpage that has links to all the songs, like [this one](http://www.azlyrics.com/n/nirvana.html). [NOTE: It seems like azlyrics.com does not allow you to scrape their webpages, so you'll have to find another source.] Then, you can write code to visit all the links and scrape each page one by one.\n",
    "- Make sure you use time.sleep(0.1) to stagger your requests so that you do not get banned by the website for making too many requests."
   ]
  },
  {
   "cell_type": "code",
   "execution_count": 1,
   "metadata": {
    "collapsed": true
   },
   "outputs": [],
   "source": [
    "import requests\n",
    "import time\n",
    "from bs4 import BeautifulSoup"
   ]
  },
  {
   "cell_type": "code",
   "execution_count": 7,
   "metadata": {
    "collapsed": false
   },
   "outputs": [],
   "source": [
    "song_links = []\n",
    "\n",
    "\n",
    "    \n",
    "req = requests.get('http://www.metrolyrics.com/Frank-ocean-lyrics.html')\n",
    "time.sleep(0.1)\n",
    "soup = BeautifulSoup(req.text, 'html.parser')\n",
    "for td in soup.find_all(\"td\"):\n",
    "    url = td.find('a')\n",
    "    if url != None:\n",
    "        song_links.append(url[\"href\"])"
   ]
  },
  {
   "cell_type": "code",
   "execution_count": 3,
   "metadata": {
    "collapsed": false
   },
   "outputs": [],
   "source": [
    "lyrics = []\n",
    "\n",
    "for song_link in song_links:\n",
    "    song_lyrics = []\n",
    "    req = requests.get(song_link)\n",
    "    time.sleep(0.1) \n",
    "    \n",
    "    soup = BeautifulSoup(req.text, 'html.parser')\n",
    "    \n",
    "    for p in soup.find_all('p', {\"class\": \"verse\"}):\n",
    "        #The following is necessary because some of the\n",
    "        #verses are preceded by labels such as [Verse 1: Jay Z]\n",
    "        if(len(p.text) < 1):\n",
    "            break\n",
    "        if p.text[0] == '[':\n",
    "            bracket_end = (p.text.find(']'))\n",
    "            song_lyrics.append(p.text[bracket_end+2 :])\n",
    "        else:\n",
    "            song_lyrics.append(p.text)\n",
    "            \n",
    "    if(len(song_lyrics) < 1):\n",
    "        continue\n",
    "    song_lyrics = \" \".join(song_lyrics)\n",
    "    song_lyrics = song_lyrics.replace('\\n', ' <N> ')\n",
    "    lyrics.append(song_lyrics)\n",
    "\n"
   ]
  },
  {
   "cell_type": "code",
   "execution_count": 4,
   "metadata": {
    "collapsed": false,
    "deletable": false,
    "nbgrader": {
     "checksum": "fc30426e397a9a8fd5e5386ba96c683d",
     "grade": false,
     "grade_id": "scraping_run",
     "locked": true,
     "solution": false
    }
   },
   "outputs": [
    {
     "name": "stdout",
     "output_type": "stream",
     "text": [
      "\"A tornado flew around my room before you came <N> Excuse the mess it made, it usually doesn't rain <N> In Southern California, much like Arizona <N> My eyes don't shed tears, but boy they pour <N> when im thinking 'bout you <N> (Ooh, no, no, no) <N> I've been thinkin' 'bout you <N> (You know, know, know) <N> I've been thinkin' 'bout you <N> Do you think about me still? <N> Do ya, do ya? Or do you not think so far ahead? <N> 'Cause I been thinkin' 'bout forever (Oooh) Or do you not think so far ahead? <N> 'Cause I been thinkin' 'bout forever (Oooh) No, I don't like you, I just thought you were cool <N> Enough to kick it <N> Got a beach house I could sell you in Idaho <N> Since you think I don't love you, I just thought you were cute <N> That's why I kissed you <N> Got a fighter jet, I don't get to fly it though I'm lying down <N> Thinkin' 'bout you <N> (Ooh, no, no, no) <N> I've been thinkin' 'bout you <N> (You know, know, know) <N> I've been thinkin' 'bout you <N> Do you think about me still? <N> Do ya, do ya? Or do you not think so far ahead? <N> 'Cause I been thinkin' 'about forever (Oooh) Or do you not think so far ahead? <N> 'Cause I been thinkin' 'about forever (Oooh) Yes, of course <N> I remember, how could I forget? <N> How you feel? <N> You know, you were my first time <N> A new feel <N> It won't ever get old, not in my soul not in <N> my spirit, keep it alive <N> We'll go down this road <N> 'Til it turns from color to black and white Or do you not think so far ahead? (Ahead) <N> 'Cause I been thinkin' 'about forever (Oooh) Or do you not think so far ahead? (Ahead) <N> 'Cause I been thinkin' 'about forever (Oooh)\"\n"
     ]
    }
   ],
   "source": [
    "# Print out the lyrics to the first song.\n",
    "print(repr(lyrics[0]))"
   ]
  },
  {
   "cell_type": "markdown",
   "metadata": {},
   "source": [
    "`pickle` is a Python package that serializes Python objects to disk so that you can load them in later."
   ]
  },
  {
   "cell_type": "code",
   "execution_count": 5,
   "metadata": {
    "collapsed": true
   },
   "outputs": [],
   "source": [
    "import pickle\n",
    "pickle.dump(lyrics, open(\"lyrics.pkl\", \"wb\"))"
   ]
  },
  {
   "cell_type": "markdown",
   "metadata": {},
   "source": [
    "### Grader's Comments\n",
    "\n",
    "- \n",
    "- \n",
    "\n",
    "[This question is worth 30 points.]"
   ]
  },
  {
   "cell_type": "code",
   "execution_count": 6,
   "metadata": {
    "collapsed": true
   },
   "outputs": [],
   "source": [
    "# This cell should only be modified only by a grader.\n",
    "scores = [None]"
   ]
  }
 ],
 "metadata": {
  "kernelspec": {
   "display_name": "Python 3",
   "language": "python",
   "name": "python3"
  },
  "language_info": {
   "codemirror_mode": {
    "name": "ipython",
    "version": 3
   },
   "file_extension": ".py",
   "mimetype": "text/x-python",
   "name": "python",
   "nbconvert_exporter": "python",
   "pygments_lexer": "ipython3",
   "version": "3.5.2"
  }
 },
 "nbformat": 4,
 "nbformat_minor": 0
}
