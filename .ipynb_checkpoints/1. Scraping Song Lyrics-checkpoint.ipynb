{
 "cells": [
  {
   "cell_type": "markdown",
   "metadata": {},
   "source": [
    "# Scraping Song Lyrics"
   ]
  },
  {
   "cell_type": "markdown",
   "metadata": {
    "deletable": false,
    "nbgrader": {
     "checksum": "8df71135a614086706cabada8726e93c",
     "grade": false,
     "grade_id": "scraping_question",
     "locked": true,
     "solution": false
    }
   },
   "source": [
    "Find a website that has lyrics for all the songs by your favorite artist. Then scrape the lyrics into a Python list called `lyrics`, where each element of the list represents the lyrics of one song.\n",
    "\n",
    "Tips:\n",
    "- Find a webpage that has links to all the songs, like [this one](http://www.azlyrics.com/n/nirvana.html). [NOTE: It seems like azlyrics.com does not allow you to scrape their webpages, so you'll have to find another source.] Then, you can write code to visit all the links and scrape each page one by one.\n",
    "- Make sure you use time.sleep(0.1) to stagger your requests so that you do not get banned by the website for making too many requests."
   ]
  },
  {
   "cell_type": "code",
   "execution_count": 2,
   "metadata": {
    "collapsed": true
   },
   "outputs": [],
   "source": [
    "import requests\n",
    "import time\n",
    "from bs4 import BeautifulSoup"
   ]
  },
  {
   "cell_type": "code",
   "execution_count": 3,
   "metadata": {
    "collapsed": false
   },
   "outputs": [
    {
     "data": {
      "text/plain": [
       "['http://www.metrolyrics.com/thinking-about-you-lyrics-frank-ocean.html',\n",
       " 'http://www.metrolyrics.com/biking-lyrics-frank-ocean.html',\n",
       " 'http://www.metrolyrics.com/thinkin-bout-you-lyrics-frank-ocean.html',\n",
       " 'http://www.metrolyrics.com/slide-on-me-lyrics-frank-ocean.html',\n",
       " 'http://www.metrolyrics.com/ivy-lyrics-frank-ocean.html',\n",
       " 'http://www.metrolyrics.com/novacane-lyrics-frank-ocean.html',\n",
       " 'http://www.metrolyrics.com/swim-good-lyrics-frank-ocean.html',\n",
       " 'http://www.metrolyrics.com/pyramids-lyrics-frank-ocean.html',\n",
       " 'http://www.metrolyrics.com/nights-lyrics-frank-ocean.html',\n",
       " 'http://www.metrolyrics.com/super-rich-kids-lyrics-frank-ocean.html',\n",
       " 'http://www.metrolyrics.com/pink-matter-lyrics-frank-ocean.html',\n",
       " 'http://www.metrolyrics.com/chanel-lyrics-frank-ocean.html',\n",
       " 'http://www.metrolyrics.com/lost-lyrics-frank-ocean.html',\n",
       " 'http://www.metrolyrics.com/solo-lyrics-frank-ocean.html',\n",
       " 'http://www.metrolyrics.com/bad-religion-lyrics-frank-ocean.html',\n",
       " 'http://www.metrolyrics.com/pink-and-white-lyrics-frank-ocean.html',\n",
       " 'http://www.metrolyrics.com/self-control-lyrics-frank-ocean.html',\n",
       " 'http://www.metrolyrics.com/thinkin-about-you-lyrics-frank-ocean.html',\n",
       " 'http://www.metrolyrics.com/lens-lyrics-frank-ocean.html',\n",
       " 'http://www.metrolyrics.com/godspeed-lyrics-frank-ocean.html',\n",
       " 'http://www.metrolyrics.com/white-ferrari-lyrics-frank-ocean.html',\n",
       " 'http://www.metrolyrics.com/nikes-lyrics-frank-ocean.html',\n",
       " 'http://www.metrolyrics.com/rushes-to-lyrics-frank-ocean.html',\n",
       " 'http://www.metrolyrics.com/forrest-gump-lyrics-frank-ocean.html',\n",
       " 'http://www.metrolyrics.com/american-wedding-lyrics-frank-ocean.html',\n",
       " 'http://www.metrolyrics.com/we-all-try-lyrics-frank-ocean.html',\n",
       " 'http://www.metrolyrics.com/lens-v2-lyrics-frank-ocean.html',\n",
       " 'http://www.metrolyrics.com/strawberry-swing-lyrics-frank-ocean.html',\n",
       " 'http://www.metrolyrics.com/wise-man-lyrics-frank-ocean.html',\n",
       " 'http://www.metrolyrics.com/sweet-life-lyrics-frank-ocean.html',\n",
       " 'http://www.metrolyrics.com/golden-girl-lyrics-frank-ocean.html',\n",
       " 'http://www.metrolyrics.com/nights-explicit-lyrics-frank-ocean.html',\n",
       " 'http://www.metrolyrics.com/thinking-bout-you-lyrics-frank-ocean.html',\n",
       " 'http://www.metrolyrics.com/pilot-jones-lyrics-frank-ocean.html',\n",
       " 'http://www.metrolyrics.com/crack-rock-lyrics-frank-ocean.html',\n",
       " 'http://www.metrolyrics.com/good-guy-lyrics-frank-ocean.html',\n",
       " 'http://www.metrolyrics.com/seigfried-lyrics-frank-ocean.html',\n",
       " 'http://www.metrolyrics.com/hublots-lyrics-frank-ocean.html',\n",
       " 'http://www.metrolyrics.com/miss-you-live-cover-lyrics-frank-ocean.html',\n",
       " 'http://www.metrolyrics.com/commes-des-garcons-lyrics-frank-ocean.html',\n",
       " 'http://www.metrolyrics.com/wildfire-lyrics-frank-ocean.html',\n",
       " 'http://www.metrolyrics.com/futura-free-lyrics-frank-ocean.html',\n",
       " 'http://www.metrolyrics.com/acura-integurl-lyrics-frank-ocean.html',\n",
       " 'http://www.metrolyrics.com/wither-lyrics-frank-ocean.html',\n",
       " 'http://www.metrolyrics.com/close-to-you-lyrics-frank-ocean.html',\n",
       " 'http://www.metrolyrics.com/monks-lyrics-frank-ocean.html',\n",
       " 'http://www.metrolyrics.com/skyline-to-lyrics-frank-ocean.html',\n",
       " 'http://www.metrolyrics.com/somebody-else-lyrics-frank-ocean.html',\n",
       " 'http://www.metrolyrics.com/mine-lyrics-frank-ocean.html',\n",
       " 'http://www.metrolyrics.com/forest-gump-lyrics-frank-ocean.html',\n",
       " 'http://www.metrolyrics.com/unity-lyrics-frank-ocean.html',\n",
       " 'http://www.metrolyrics.com/fertilizer-lyrics-frank-ocean.html',\n",
       " 'http://www.metrolyrics.com/higgs-lyrics-frank-ocean.html',\n",
       " 'http://www.metrolyrics.com/ready-lyrics-frank-ocean.html',\n",
       " 'http://www.metrolyrics.com/greedy-love-lyrics-frank-ocean.html',\n",
       " 'http://www.metrolyrics.com/if-iam-in-love-lyrics-frank-ocean.html',\n",
       " 'http://www.metrolyrics.com/end-lyrics-frank-ocean.html',\n",
       " 'http://www.metrolyrics.com/solo-reprise-lyrics-frank-ocean.html',\n",
       " 'http://www.metrolyrics.com/not-just-money-lyrics-frank-ocean.html',\n",
       " 'http://www.metrolyrics.com/siegfried-lyrics-frank-ocean.html',\n",
       " 'http://www.metrolyrics.com/sierra-leone-lyrics-frank-ocean.html',\n",
       " 'http://www.metrolyrics.com/at-your-best-lyrics-frank-ocean.html',\n",
       " 'http://www.metrolyrics.com/thinking-about-you-remix-lyrics-frank-ocean.html',\n",
       " 'http://www.metrolyrics.com/no-bonnie-lyrics-frank-ocean.html',\n",
       " 'http://www.metrolyrics.com/hardest-thing-lyrics-frank-ocean.html',\n",
       " 'http://www.metrolyrics.com/white-lyrics-frank-ocean.html',\n",
       " 'http://www.metrolyrics.com/love-crimes-lyrics-frank-ocean.html',\n",
       " 'http://www.metrolyrics.com/experiences-lyrics-frank-ocean.html',\n",
       " 'http://www.metrolyrics.com/she-lyrics-frank-ocean.html',\n",
       " 'http://www.metrolyrics.com/nature-feels-lyrics-frank-ocean.html',\n",
       " 'http://www.metrolyrics.com/facebook-story-lyrics-frank-ocean.html',\n",
       " 'http://www.metrolyrics.com/sideways-lyrics-frank-ocean.html',\n",
       " 'http://www.metrolyrics.com/blondes-theme-lyrics-frank-ocean.html',\n",
       " 'http://www.metrolyrics.com/godspeed-dvsn-remix-lyrics-frank-ocean.html',\n",
       " 'http://www.metrolyrics.com/you-are-luhh-lyrics-frank-ocean.html',\n",
       " 'http://www.metrolyrics.com/slide-lyrics-calvin-harris.html',\n",
       " 'http://www.metrolyrics.com/wolves-lyrics-kanye-west.html',\n",
       " 'http://www.metrolyrics.com/she-lyrics-tyler-the-creator.html',\n",
       " 'http://www.metrolyrics.com/no-church-in-the-wild-lyrics-kanye-west-and-jayz.html',\n",
       " 'http://www.metrolyrics.com/sunday-lyrics-earl-sweatshirt.html',\n",
       " 'http://www.metrolyrics.com/white-lyrics-odd-future.html',\n",
       " 'http://www.metrolyrics.com/made-in-america-lyrics-kanye-west-and-jayz.html',\n",
       " 'http://www.metrolyrics.com/made-in-america-lyrics-jayz.html',\n",
       " 'http://www.metrolyrics.com/analog-2-lyrics-tyler-the-creator.html',\n",
       " 'http://www.metrolyrics.com/analog-2-lyrics-odd-future.html',\n",
       " 'http://www.metrolyrics.com/snow-white-lyrics-odd-future.html',\n",
       " 'http://www.metrolyrics.com/superpower-lyrics-beyonce-knowles.html',\n",
       " 'http://www.metrolyrics.com/untitled-lyrics-calvin-harris.html']"
      ]
     },
     "execution_count": 3,
     "metadata": {},
     "output_type": "execute_result"
    }
   ],
   "source": [
    "song_links = []\n",
    "\n",
    "\n",
    "    \n",
    "req = requests.get('http://www.metrolyrics.com/frank-ocean-lyrics.html')\n",
    "time.sleep(0.1)\n",
    "soup = BeautifulSoup(req.text, 'html.parser')\n",
    "for td in soup.find_all(\"td\"):\n",
    "    url = td.find('a')\n",
    "    if url != None:\n",
    "        song_links.append(url[\"href\"])\n",
    "        \n",
    "        \n",
    "song_links"
   ]
  },
  {
   "cell_type": "code",
   "execution_count": 19,
   "metadata": {
    "collapsed": false
   },
   "outputs": [],
   "source": [
    "lyrics = []\n",
    "for song_link in song_links:\n",
    "    song_lyrics = []\n",
    "    req = requests.get(song_link)\n",
    "    time.sleep(0.1) \n",
    "    \n",
    "    soup = BeautifulSoup(req.text, 'html.parser')\n",
    "    for p in soup.find_all('p', {\"class\": \"verse\"}):\n",
    "        if len(p.text) == 0:\n",
    "            continue\n",
    "        #The following is necessary because some of the\n",
    "        #verses are preceded by labels such as [Verse 1: Jay Z]\n",
    "        if p.text[0] == '[':\n",
    "            bracket_end = (p.text.find(']'))\n",
    "            song_lyrics.append(p.text[bracket_end+1 :])\n",
    "        else:\n",
    "            song_lyrics.append(p.text)\n",
    "\n",
    "    song_lyrics = \" \".join(song_lyrics)\n",
    "    lyrics.append(song_lyrics)\n",
    "\n"
   ]
  },
  {
   "cell_type": "code",
   "execution_count": 20,
   "metadata": {
    "collapsed": false,
    "deletable": false,
    "nbgrader": {
     "checksum": "fc30426e397a9a8fd5e5386ba96c683d",
     "grade": false,
     "grade_id": "scraping_run",
     "locked": true,
     "solution": false
    }
   },
   "outputs": [
    {
     "name": "stdout",
     "output_type": "stream",
     "text": [
      "\n",
      "Uh, turn, what goes around comes around\n",
      "Ayy, turn, turn the music up, uh, yeah\n",
      "Goes around comes around\n",
      "What goes, alright, like like\n",
      "Life goes in cycles\n",
      "Everything that comes around goes around\n",
      "'Fore it goes down, get you some ice \n",
      "Life goes in cycles, what comes around goes around\n",
      "So 'fore it goes down, nigga, get you some icicles\n",
      "Audemars before all of y'alls\n",
      "Wristwatch got a Russian face like an oligarch, uh\n",
      "12 o'clock, boy, silly nice, huh\n",
      "Willie in traffic, I'm Philly nice, uh\n",
      "E.T. on the handles, uh\n",
      "Handlebars like a Xanax\n",
      "Shammgod with the AND1 moves\n",
      "Throw that shit 'round your neck\n",
      "Right quick, broke boys get fixed\n",
      "Right quick, Nigel Sylvester with these bike flips\n",
      "Uh, that's a full cab and a back flip\n",
      "Uh, sidebar \n",
      "Arm stretch a tee like I nailed it\n",
      "Raf movin' slow like a creep\n",
      "Shirt in the breeze like I'm sailin'\n",
      "And I walk in my sleep, I can't help that (I can't)\n",
      "When's the last time I asked for some help that\n",
      "I couldn't get from nobody else, yeah?\n",
      "I couldn't get from nobody else, yeah (I can't)\n",
      "When's the last time I asked for some help that\n",
      "I couldn't get from nobody else, yeah?\n",
      "Nobody \n",
      "I don't get weak in the knees\n",
      "Hundreds spread out like a fan\n",
      "Vert feel like some Gucci sandals\n",
      "Open the sky, get a handful\n",
      "Torso marked up like a vandal\n",
      "How you not fuckin' with cash?\n",
      "God gave you what you could handle\n",
      "Gave you what you could handle\n",
      "I got the grip like the handle\n",
      "And I'm bikin'\n",
      "I'm bikin' with me and my Daniel\n",
      "Hades got the angels\n",
      "TV's got the angles\n",
      "I'm brakin'... got... \n",
      "Bikin', I'm bikin', I'm bikin' slow-mo\n",
      "Maybe the four wheel excitin' us more\n",
      "I'm cold when the temperatures dip below 70s\n",
      "How can I be burr around LA coast?\n",
      "The diamonds is plural, the Tiffany broach\n",
      "On my lapel, at the table, I'm givin' a toast\n",
      "The first wedding that I've been in my twenties\n",
      "Thinkin' maybe someone is not somethin' to own\n",
      "Thinkin' maybe the government got nothin' to do\n",
      "Thinkin' maybe the feeling just comes and it goes\n",
      "Think I want me a lil' one that look like my clone\n",
      "Me and my baby can't do on our own\n",
      "I landed a trick, got my impossibles\n",
      "I'm fuckin' with Addy, I'm watchin' my dose\n",
      "24 hours like they never close\n",
      "I'm bikin', I'm bikin', I'm bikin' these blocks, yeah\n",
      "Since Ben Baller sold all his ice up at Slauson, ooh\n",
      "I'm bikin' uphill and it's burnin' my quads (obstacles)\n",
      "I'm bikin' downhill and it sound like a fishin' rod\n",
      "Savage, I'm bikin', yeah \n",
      "From coldwater to the shaw\n",
      "Alcoholic way I handle the bars\n",
      "This a PK, PK Ripper\n",
      "Nah you can't fuck with the boy\n",
      "That's my problem yeah\n",
      "I got 'em, my tire smokin' when I stop\n",
      "Okay, nobody fuckin' with me\n",
      "My accolades hang from my neck\n",
      "Pedal, I drown in the heat\n",
      "My sapphires drown in my sweat\n",
      "White mags, but I jet\n",
      "Jackson, I'm savin' the streets\n",
      "I'm Roger Rabbit in the air, I don't care, Big Willie Style, yeah\n",
      "Nigga one wheel, one wheel, one wheel\n",
      "Nigga one wheel, I fishtail downhill, yeah\n",
      "I rose my rate, brand new brakes\n",
      "Why I name it Slater? Ask my date \n",
      "I don't get weak in the knees\n",
      "Hundreds spread out like a fan\n",
      "Vert feel like some Gucci sandals\n",
      "Open the sky, get a handful\n",
      "Torso marked up like a vandal\n",
      "How you not fuckin' with cash?\n",
      "God gave you what you could handle\n",
      "Gave you what you could handle\n",
      "I got the grip like the handle\n",
      "And I'm bikin'\n",
      "I'm bikin' with me and my Daniel\n",
      "Hades got the angels\n",
      "TV's got the angles\n",
      "I'm brakin' \n",
      "Got, got me fucked up\n",
      "Got 50 thousand racks\n",
      "Got 50 thousand racks\n",
      "Got, got me fucked up\n",
      "Got me fucked up, up\n",
      "50 thousand racks\n",
      "Got, got me fucked up, up\n",
      "50 thousand racks\n",
      "Got, got me fucked up\n",
      "Got 50 thousand racks\n",
      "Got 50 thousand racks\n",
      "Got, got me fucked up\n",
      "Got me fucked up, up\n",
      "50 thousand racks\n",
      "Got, got me fucked up, up\n",
      "50 thousand racks\n"
     ]
    }
   ],
   "source": [
    "# Print out the lyrics to the first song.\n",
    "print(lyrics[1])"
   ]
  },
  {
   "cell_type": "markdown",
   "metadata": {},
   "source": [
    "`pickle` is a Python package that serializes Python objects to disk so that you can load them in later."
   ]
  },
  {
   "cell_type": "code",
   "execution_count": 6,
   "metadata": {
    "collapsed": true
   },
   "outputs": [],
   "source": [
    "import pickle\n",
    "pickle.dump(lyrics, open(\"lyrics.pkl\", \"wb\"))"
   ]
  },
  {
   "cell_type": "markdown",
   "metadata": {},
   "source": [
    "### Grader's Comments\n",
    "\n",
    "- \n",
    "- \n",
    "\n",
    "[This question is worth 30 points.]"
   ]
  },
  {
   "cell_type": "code",
   "execution_count": 7,
   "metadata": {
    "collapsed": true
   },
   "outputs": [],
   "source": [
    "# This cell should only be modified only by a grader.\n",
    "scores = [None]"
   ]
  }
 ],
 "metadata": {
  "kernelspec": {
   "display_name": "Python 3",
   "language": "python",
   "name": "python3"
  }
 },
 "nbformat": 4,
 "nbformat_minor": 0
}
