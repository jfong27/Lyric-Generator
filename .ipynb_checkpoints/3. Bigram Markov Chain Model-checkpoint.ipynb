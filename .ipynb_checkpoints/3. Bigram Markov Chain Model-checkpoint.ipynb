{
 "cells": [
  {
   "cell_type": "markdown",
   "metadata": {},
   "source": [
    "# Bigram Markov Chain Model\n",
    "\n",
    "Now you'll build a more complex Markov chain that uses the last _two_ words (or bigram) to predict the next word. Now your dict `chain` should map a _tuple_ of words to a list of words that appear after it. So for example, one entry of this dict might be\n",
    "\n",
    "```\n",
    "chain = {\n",
    "    (\"it\", \"is\"): [\"the\", \"the\", \"not\", \"a\", \"a\", \"not\", \"the\"],\n",
    "    ...\n",
    "}\n",
    "```\n",
    "\n",
    "As before, you should also include tags that indicate the beginning and end of a song, as well as line breaks. That is, a tuple might contain tags like `\"<START>\"`, `\"<END>\"`, and `\"<N>\"`, in addition to regular words. So if the song starts with the line \"Is this the real life?\" and ends with the line \"Nothing really matters to me.\", you would have a dictionary that looks like\n",
    "```\n",
    "chain = {\n",
    "    (None, \"<START>\"): [\"Is\", ...],\n",
    "    (\"<START>\", \"Is\"): [\"this\", ...],\n",
    "    (\"Is\", \"this\"): [\"the\", ...],\n",
    "    (\"this\", \"the\"): [\"real\", ...],\n",
    "    (\"the\", \"real\"): [\"life?\", ...],\n",
    "    (\"real\", \"life?\"): [\"<N>\", ...],\n",
    "    (\"<N>\", \"Nothing\"): [\"really\", ...],\n",
    "    (\"Nothing\", \"really\"): [\"matters\", ...],\n",
    "    (\"really\", \"matters\"): [\"to\", ...],\n",
    "    (\"matters\", \"to\"): [\"me.\", ...],\n",
    "    (\"to\", \"me.\"): [\"<END>\", ...],\n",
    "    ...\n",
    "}\n",
    "```"
   ]
  },
  {
   "cell_type": "code",
   "execution_count": 114,
   "metadata": {
    "collapsed": false
   },
   "outputs": [],
   "source": [
    "def train_markov_chain(lyrics):\n",
    "    \"\"\"\n",
    "    Args:\n",
    "      - lyrics: a list of strings, where each string represents\n",
    "                the lyrics of one song by an artist.\n",
    "    \n",
    "    Returns:\n",
    "      A dict that maps a tuple of 2 words (\"bigram\") to a list of\n",
    "      words that follow that bigram, representing the Markov\n",
    "      chain trained on the lyrics.\n",
    "    \"\"\"\n",
    "    chain = {(None, \"<START>\"): [],\n",
    "             (None, \"<N>\"): []}\n",
    "    for lyric in lyrics:\n",
    "        words_dirty = lyric.split(\" \")\n",
    "        words = []\n",
    "  \n",
    "        for word in words_dirty:\n",
    "            if '\\n' in word: \n",
    "                new_words = word.split('\\n')\n",
    "                words.append(new_words[0])\n",
    "                words.append('<N>')\n",
    "                words.append(new_words[1])\n",
    "            else:\n",
    "                words.append(word)\n",
    "        \n",
    "        \n",
    "        if(words[0] == ''):\n",
    "            continue\n",
    "          \n",
    "        chain[(None, \"<START>\")].append(words[0])\n",
    "\n",
    "    \n",
    "        for i in range(0,len(words)-1):\n",
    "            if i == 0:\n",
    "                first = \"<START>\"\n",
    "                second = words[i]\n",
    "                next_word = words[i+1]\n",
    "\n",
    "                \n",
    "                \n",
    "                \n",
    "                \n",
    "                if (first,second) in chain:\n",
    "                    chain[(first,second)].append(next_word)\n",
    "                else:\n",
    "                    chain[(first,second)] = [next_word]\n",
    "                continue\n",
    "            else:\n",
    "                first = words[i-1]\n",
    "                second = words[i]\n",
    "            \n",
    "    \n",
    "            \n",
    "            \n",
    "            \n",
    "            if i == len(words)-2:\n",
    "                next_word = \"<END>\"\n",
    "            else:\n",
    "                next_word = words[i+1]\n",
    "\n",
    "            if second == \"<N>\":\n",
    "                chain[(None,\"<N>\")].append(next_word)\n",
    "            \n",
    "            pair = (first, second)\n",
    "            \n",
    "            if pair in chain:\n",
    "                chain[pair].append(next_word)\n",
    "            else:\n",
    "                chain[pair] = [next_word]\n",
    " \n",
    "            \n",
    "            \n",
    "\n",
    "    return chain"
   ]
  },
  {
   "cell_type": "code",
   "execution_count": 115,
   "metadata": {
    "collapsed": false
   },
   "outputs": [
    {
     "name": "stdout",
     "output_type": "stream",
     "text": [
      "['A', 'Uh,', 'A', \"I've\", 'I', 'I', \"That's\", 'Set', 'Round', 'Too', 'And', 'My', 'Double', 'Hand', 'Taxi', 'Yeah,', 'Pool', 'A', 'My', 'I', 'Bad', 'These', 'Saturdays', 'I', 'I', 'I', 'My', 'When', 'Wiseman', 'The', 'She', 'Round', 'A', 'We', 'You', \"It's\", 'The', 'Turn', 'I', 'He', \"River's\", 'If', 'She', 'Oh,', 'I', 'Mosh', 'This', 'How', 'I', 'My', 'Fertilizer', 'That', 'Verse', 'i', 'I', 'Darker', 'Hand', 'Stop', '(I', 'When', 'Frank', \"I'm\", 'Look,', 'Could', 'Talk', 'Something', 'Golden', \"I've\", 'I', 'Lobster', 'I', 'When', 'I', 'Lost', 'Golden', 'Human', 'I', 'Could', 'And', 'Shout', 'Bitches', 'Bitches', 'Gold', 'When']\n",
      "['Excuse', 'In', 'My', 'when', '(Ooh,', \"I've\", '(You', \"I've\", 'Do', 'Do', \"'Cause\", \"'Cause\", 'Enough', 'Got', 'Since', \"That's\", 'Got', \"Thinkin'\", '(Ooh,', \"I've\"]\n"
     ]
    }
   ],
   "source": [
    "# Load the pickled lyrics object that you created in Part 1.\n",
    "import pickle\n",
    "lyrics = pickle.load(open(\"lyrics.pkl\", \"rb\"))\n",
    "\n",
    "# Call the function you wrote above.\n",
    "chain = train_markov_chain(lyrics)\n",
    "#print(chain)\n",
    "# What words tend to start a song (i.e., what words follow the <START> tag?)\n",
    "print(chain[(None, \"<START>\")][:])\n",
    "\n",
    "# What words tend to begin a line (i.e., what words follow the line break tag?)\n",
    "print(chain[(None, \"<N>\")][:20])"
   ]
  },
  {
   "cell_type": "markdown",
   "metadata": {},
   "source": [
    "Now, let's generate new lyrics using the Markov chain you constructed above. To do this, we'll begin at the `(None, \"<START>\")` state and randomly sample a word from the list of first words. Then, we'll randomly sample each next word from the list of words that appeared after the current word in the training data. We will continue this until we reach the `\"<END>\"` state. This will give us the complete lyrics of a randomly generated song!"
   ]
  },
  {
   "cell_type": "code",
   "execution_count": 116,
   "metadata": {
    "collapsed": true
   },
   "outputs": [],
   "source": [
    "import random\n",
    "\n",
    "def generate_new_lyrics(chain):\n",
    "    \"\"\"\n",
    "    Args:\n",
    "      - chain: a dict representing the Markov chain,\n",
    "               such as one generated by generate_new_lyrics()\n",
    "    \n",
    "    Returns:\n",
    "      A string representing the randomly generated song.\n",
    "    \"\"\"\n",
    "    \n",
    "    # a list for storing the generated words\n",
    "    words = []\n",
    "    # generate the first word\n",
    "    curr_word = random.choice(chain[(None, \"<START>\")])\n",
    "    words.append(curr_word)\n",
    "\n",
    "    p1 = \"<START>\"\n",
    "    p2 = curr_word\n",
    "    while(curr_word != \"<END>\"):\n",
    "        next_word = random.choice(chain[(p1,p2)])\n",
    "        words.append(next_word)\n",
    "        p1 = p2\n",
    "        p2 = next_word\n",
    "        curr_word = next_word\n",
    "        \n",
    "\n",
    "    \n",
    "    # join the words together into a string with line breaks\n",
    "    lyrics = \" \".join(words[:-1])\n",
    "    return \"\\n\".join(lyrics.split(\"<N>\"))"
   ]
  },
  {
   "cell_type": "code",
   "execution_count": 148,
   "metadata": {
    "collapsed": false
   },
   "outputs": [
    {
     "name": "stdout",
     "output_type": "stream",
     "text": [
      "When I don't mean too much Talents, got any secret talents? I don't get fly it, though I'm lyin' down thinkin' 'bout forever (ooh, ooh) No, I don't play, I don't get to fly it, though I'm lyin' down thinkin' 'bout you \n",
      " Gone off tabs of that green, no lucky charms \n",
      " The sweet\n"
     ]
    }
   ],
   "source": [
    "print(generate_new_lyrics(chain))"
   ]
  },
  {
   "cell_type": "markdown",
   "metadata": {},
   "source": [
    "### Grader's Comments\n",
    "\n",
    "- \n",
    "- \n",
    "\n",
    "[This question is worth 20 points.]"
   ]
  },
  {
   "cell_type": "code",
   "execution_count": null,
   "metadata": {
    "collapsed": true
   },
   "outputs": [],
   "source": [
    "# This cell should only be modified only by a grader.\n",
    "scores = [None]"
   ]
  }
 ],
 "metadata": {
  "kernelspec": {
   "display_name": "Python 3",
   "language": "python",
   "name": "python3"
  },
  "language_info": {
   "codemirror_mode": {
    "name": "ipython",
    "version": 3
   },
   "file_extension": ".py",
   "mimetype": "text/x-python",
   "name": "python",
   "nbconvert_exporter": "python",
   "pygments_lexer": "ipython3",
   "version": "3.5.2"
  }
 },
 "nbformat": 4,
 "nbformat_minor": 2
}
