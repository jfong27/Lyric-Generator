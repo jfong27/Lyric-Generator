{
 "cells": [
  {
   "cell_type": "markdown",
   "metadata": {},
   "source": [
    "# Unigram Markov Chain Model\n",
    "\n",
    "You will build a Markov chain for the artist whose lyrics you scraped in Part 1. To do this, you have to go through the lyrics and learn the word transitions for that artist. You will store this information in a dict called `chain`, which maps each word to a list of words that appear after it in the training data. So for example, one entry of this dict might be\n",
    "\n",
    "```\n",
    "chain = {\n",
    "    \"it\": [\"is\", \"runs\", \"is\", \"is\", \"was\", \"is\", \"was\"],\n",
    "    ...\n",
    "}\n",
    "```\n",
    "\n",
    "You should include a few additional states, besides words, in your Markov chain. You should have `\"<START>\"` and `\"<END>\"` states so that we can keep track of what words songs are likely to begin and end on. You should also include a state called `\"<N>\"` to denote line breaks so that you can keep track of where lines begin and end. \n",
    "\n",
    "So if the song starts with the line \"Is this the real life?\" and ends with the line \"Nothing really matters to me.\", you would have a dictionary that looks like\n",
    "```\n",
    "chain = {\n",
    "    \"<START>\": [\"Is\", ...],\n",
    "    \"Is\": [\"this\", ...],\n",
    "    \"this\": [\"the\", ...],\n",
    "    \"the\": [\"real\", ...],\n",
    "    \"real\": [\"life?\", ...],\n",
    "    \"life?\": [\"<N>\", ...],\n",
    "    \"<N>\": [\"Nothing\", ...],\n",
    "    \"Nothing\": [\"really\", ...],\n",
    "    \"really\": [\"matters\", ...],\n",
    "    \"matters\": [\"to\", ...],\n",
    "    \"to\": [\"me\", ...],\n",
    "    \"me.\": [\"<END>\", ...],\n",
    "    ...\n",
    "}\n",
    "```\n"
   ]
  },
  {
   "cell_type": "code",
   "execution_count": 46,
   "metadata": {
    "collapsed": false
   },
   "outputs": [],
   "source": [
    "def train_markov_chain(lyrics):\n",
    "    \"\"\"\n",
    "    Args:\n",
    "      - lyrics: a list of strings, where each string represents\n",
    "                the lyrics of one song by an artist.\n",
    "    \n",
    "    Returns:\n",
    "      A dict that maps a single word (\"unigram\") to a list of\n",
    "      words that follow that word, representing the Markov\n",
    "      chain trained on the lyrics.\n",
    "   \n",
    "    chain = {\"<START>\": [],\n",
    "             \"<N>\": []}\n",
    "    for lyric in lyrics:\n",
    "        words_dirty = lyric.split(\" \")\n",
    "        words = []\n",
    "  \n",
    "        for word in words_dirty:\n",
    "            if '\\n' in word: \n",
    "                new_words = word.split('\\n')\n",
    "                words.append(new_words[0])\n",
    "                words.append('<N>')\n",
    "                words.append(new_words[1])\n",
    "            else:\n",
    "                words.append(word)\n",
    "                \n",
    "        chain[\"<START>\"].append(words[0])\n",
    "\n",
    "        \n",
    "        for i in range(0,len(words)):\n",
    "            word = words[i]\n",
    "            if i == len(words) -1:\n",
    "                next_word = \"<END>\"\n",
    "            else:\n",
    "                next_word = words[i+1]\n",
    "\n",
    "            if word in chain:        \n",
    "                chain[word].append(next_word)\n",
    "            else:\n",
    "                chain[word] = [next_word]\n",
    "        \n",
    "    return chain\n",
    "\"\"\"\n",
    "\n",
    "#replace each song's \\n with <N> \n",
    "\n",
    "    chain = {\"<START>\": [],\n",
    "             \"<N>\": []}\n",
    "    for lyric in lyrics:\n",
    "        words = lyric.split(\" \")\n",
    "        chain[\"<START>\"].append(words[0])\n",
    "        for i in range(0, len(words)-1):\n",
    "            word = words[i]\n",
    "            if word in chain:\n",
    "                chain[word].append(words[i+1])\n",
    "            else:\n",
    "                chain[word] = [words[i+1]]\n",
    "        last_word = words[-1]\n",
    "        if last_word in chain:\n",
    "            chain[last_word].append(\"<END>\")\n",
    "        else:\n",
    "            chain[last_word] = [\"<END>\"]\n",
    "    \n",
    "    return chain\n",
    "            \n",
    "            \n",
    "\n",
    "\n",
    "#split by line, then split by newline"
   ]
  },
  {
   "cell_type": "code",
   "execution_count": 50,
   "metadata": {
    "collapsed": false
   },
   "outputs": [
    {
     "name": "stdout",
     "output_type": "stream",
     "text": [
      "['A', 'Uh,', 'A', 'I', \"I've\", 'I', \"That's\", 'Round', 'Too', 'Set', 'My', 'And', 'Double', 'Hand', 'My', 'Pool', 'A', 'Taxi', 'Yeah,', 'Bad']\n",
      "['Excuse', 'In', 'My', 'when', '(Ooh,', \"I've\", '(You', \"I've\", 'Do', 'Do', \"'Cause\", \"'Cause\", 'Enough', 'Got', 'Since', \"That's\", 'Got', \"Thinkin'\", '(Ooh,', \"I've\"]\n"
     ]
    }
   ],
   "source": [
    "# Load the pickled lyrics object that you created in Part 1.\n",
    "import pickle\n",
    "lyrics = pickle.load(open(\"lyrics.pkl\", \"rb\"))\n",
    "\n",
    "# Call the function you wrote above.\n",
    "chain = train_markov_chain(lyrics)\n",
    "# What words tend to start a song (i.e., what words follow the <START> tag?)\n",
    "print(chain[\"<START>\"][:20])\n",
    "\n",
    "# What words tend to begin a line (i.e., what words follow the line break tag?)\n",
    "print(chain[\"<N>\"][:20])"
   ]
  },
  {
   "cell_type": "markdown",
   "metadata": {},
   "source": [
    "Now, let's generate new lyrics using the Markov chain you constructed above. To do this, we'll begin at the `\"<START>\"` state and randomly sample a word from the list of first words. Then, we'll randomly sample each next word from the list of words that appeared after the current word in the training data. We will continue this until we reach the `\"<END>\"` state. This will give us the complete lyrics of a randomly generated song!\n",
    "\n",
    "You may find the `random.choice()` function helpful for this question."
   ]
  },
  {
   "cell_type": "code",
   "execution_count": 51,
   "metadata": {
    "collapsed": true
   },
   "outputs": [],
   "source": [
    "import random\n",
    "\n",
    "def generate_new_lyrics(chain):\n",
    "    \"\"\"\n",
    "    Args:\n",
    "      - chain: a dict representing the Markov chain,\n",
    "               such as one generated by generate_new_lyrics()\n",
    "    \n",
    "    Returns:\n",
    "      A string representing the randomly generated song.\n",
    "    \"\"\"\n",
    "    \n",
    "    # a list for storing the generated words\n",
    "    words = []\n",
    "    # generate the first word\n",
    "    curr_word = random.choice(chain[\"<START>\"])\n",
    "    words.append(curr_word)\n",
    "    while(curr_word != \"<END>\"):\n",
    "        next_word = random.choice(chain[curr_word])\n",
    "        words.append(next_word)\n",
    "        curr_word = next_word\n",
    "    \n",
    "    # YOUR CODE HERE\n",
    "    \n",
    "    \n",
    "    # join the words together into a string with line breaks\n",
    "    lyrics = \" \".join(words[:-1])\n",
    "    return \"\\n\".join(lyrics.split(\"<N>\"))"
   ]
  },
  {
   "cell_type": "code",
   "execution_count": 70,
   "metadata": {
    "collapsed": false
   },
   "outputs": [
    {
     "name": "stdout",
     "output_type": "stream",
     "text": [
      "River's strong through \n",
      " Floor model broad in Idaho \n",
      " Tuberose and the angels \n",
      " We'll go Forrest \n",
      " My Baby) \n",
      " cause I say \n",
      " Oh, seasons dance \n",
      " Miami, Amsterdam in anything? \n",
      " I play the city building y'all honest \n",
      " One (Yo) \n",
      " But i won't blunt my tree house \n",
      " Oh, oh, oh, yeah-yeah This ain't really loud, couldn't play the wild \n",
      " Like 10, 6, Pimp C, Bun B about forever (ooh, ooh) Yes, of the sky \n",
      " We'd flee to kick it all try, you think about forever (Oooh, oooh)\n"
     ]
    }
   ],
   "source": [
    "print(generate_new_lyrics(chain))"
   ]
  },
  {
   "cell_type": "markdown",
   "metadata": {},
   "source": [
    "### Grader's Comments\n",
    "\n",
    "- \n",
    "- \n",
    "\n",
    "[This question is worth 20 points.]"
   ]
  },
  {
   "cell_type": "code",
   "execution_count": null,
   "metadata": {
    "collapsed": true
   },
   "outputs": [],
   "source": [
    "# This cell should only be modified only by a grader.\n",
    "scores = [None]"
   ]
  }
 ],
 "metadata": {
  "kernelspec": {
   "display_name": "Python 3",
   "language": "python",
   "name": "python3"
  },
  "language_info": {
   "codemirror_mode": {
    "name": "ipython",
    "version": 3
   },
   "file_extension": ".py",
   "mimetype": "text/x-python",
   "name": "python",
   "nbconvert_exporter": "python",
   "pygments_lexer": "ipython3",
   "version": "3.5.2"
  }
 },
 "nbformat": 4,
 "nbformat_minor": 2
}
